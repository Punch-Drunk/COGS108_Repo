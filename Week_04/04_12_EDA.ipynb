{
  "cells": [
    {
      "cell_type": "markdown",
      "id": "c88a4c83",
      "metadata": {
        "id": "c88a4c83"
      },
      "source": [
        "## Class Announcements\n",
        "\n",
        "### Due Today\n",
        "- Project review\n",
        "\n",
        "### Due Friday:\n",
        "- D3\n",
        "\n",
        "### Due Monday:\n",
        "- Q4\n",
        "\n",
        "### Notes:\n",
        "- **Only 1 week until your project proposal is due!!@#!@#!@#**\n",
        "- Repo invites:Take it ASAP, they become invalid after 7 days\n",
        "\n",
        "# Descriptive and Exploratory Data Analysis\n",
        "\n",
        "Let's explore some toy datasets, and see what's in there.  [Pandas](https://pandas.pydata.org/docs/user_guide/index.html) is our tool of choice for both data wrangling and also a basic descriptive analysis. [Seaborn](https://seaborn.pydata.org/) is the tool we will be using to do our graphical EDA, but it is also true that much of this can be accomplished (uglier, slower) in Pandas. You will find the docs on these websites to be very useful... always have them open in another browser tab.\n",
        "\n",
        "Finally we will show you [Missingno]() a tool that you might find useful to explore missing data.  This is a much simpler package than the others, but I often find it useful. It certainly isn't nearly as common to see out in the wild as the first two.\n",
        "\n",
        "[![Open In Colab](https://colab.research.google.com/assets/colab-badge.svg)](https://colab.research.google.com/github/COGS108/Lectures-Fa23/blob/main/Week_04/04_12_EDA.ipynb)\n"
      ]
    },
    {
      "cell_type": "code",
      "execution_count": 1,
      "id": "5327f45d",
      "metadata": {
        "colab": {
          "base_uri": "https://localhost:8080/"
        },
        "id": "5327f45d",
        "outputId": "b29974c0-16f3-476d-87d0-04c6759ead75"
      },
      "outputs": [
        {
          "output_type": "stream",
          "name": "stdout",
          "text": [
            "Requirement already satisfied: missingno in /usr/local/lib/python3.10/dist-packages (0.5.2)\n",
            "Requirement already satisfied: numpy in /usr/local/lib/python3.10/dist-packages (from missingno) (1.25.2)\n",
            "Requirement already satisfied: matplotlib in /usr/local/lib/python3.10/dist-packages (from missingno) (3.7.1)\n",
            "Requirement already satisfied: scipy in /usr/local/lib/python3.10/dist-packages (from missingno) (1.11.4)\n",
            "Requirement already satisfied: seaborn in /usr/local/lib/python3.10/dist-packages (from missingno) (0.13.1)\n",
            "Requirement already satisfied: contourpy>=1.0.1 in /usr/local/lib/python3.10/dist-packages (from matplotlib->missingno) (1.2.1)\n",
            "Requirement already satisfied: cycler>=0.10 in /usr/local/lib/python3.10/dist-packages (from matplotlib->missingno) (0.12.1)\n",
            "Requirement already satisfied: fonttools>=4.22.0 in /usr/local/lib/python3.10/dist-packages (from matplotlib->missingno) (4.51.0)\n",
            "Requirement already satisfied: kiwisolver>=1.0.1 in /usr/local/lib/python3.10/dist-packages (from matplotlib->missingno) (1.4.5)\n",
            "Requirement already satisfied: packaging>=20.0 in /usr/local/lib/python3.10/dist-packages (from matplotlib->missingno) (24.0)\n",
            "Requirement already satisfied: pillow>=6.2.0 in /usr/local/lib/python3.10/dist-packages (from matplotlib->missingno) (9.4.0)\n",
            "Requirement already satisfied: pyparsing>=2.3.1 in /usr/local/lib/python3.10/dist-packages (from matplotlib->missingno) (3.1.2)\n",
            "Requirement already satisfied: python-dateutil>=2.7 in /usr/local/lib/python3.10/dist-packages (from matplotlib->missingno) (2.8.2)\n",
            "Requirement already satisfied: pandas>=1.2 in /usr/local/lib/python3.10/dist-packages (from seaborn->missingno) (2.0.3)\n",
            "Requirement already satisfied: pytz>=2020.1 in /usr/local/lib/python3.10/dist-packages (from pandas>=1.2->seaborn->missingno) (2023.4)\n",
            "Requirement already satisfied: tzdata>=2022.1 in /usr/local/lib/python3.10/dist-packages (from pandas>=1.2->seaborn->missingno) (2024.1)\n",
            "Requirement already satisfied: six>=1.5 in /usr/local/lib/python3.10/dist-packages (from python-dateutil>=2.7->matplotlib->missingno) (1.16.0)\n"
          ]
        }
      ],
      "source": [
        "# you probably don't already have this package installed, so lets do that\n",
        "%pip install missingno"
      ]
    },
    {
      "cell_type": "code",
      "execution_count": 2,
      "id": "6be39358",
      "metadata": {
        "id": "6be39358"
      },
      "outputs": [],
      "source": [
        "import pandas as pd\n",
        "import matplotlib.pyplot as plt\n",
        "import numpy as np\n",
        "import seaborn as sns\n",
        "import missingno as msno\n",
        "\n",
        "%matplotlib inline\n",
        "\n",
        "sns.set_theme(context='notebook',\n",
        "              style='white',\n",
        "              font_scale=1.5)"
      ]
    },
    {
      "cell_type": "code",
      "execution_count": 3,
      "id": "344fd81d",
      "metadata": {
        "colab": {
          "base_uri": "https://localhost:8080/",
          "height": 461
        },
        "id": "344fd81d",
        "outputId": "4b6d6d51-879f-492f-f864-8e6a44bb809a"
      },
      "outputs": [
        {
          "output_type": "stream",
          "name": "stdout",
          "text": [
            "['anagrams', 'anscombe', 'attention', 'brain_networks', 'car_crashes', 'diamonds', 'dots', 'dowjones', 'exercise', 'flights', 'fmri', 'geyser', 'glue', 'healthexp', 'iris', 'mpg', 'penguins', 'planets', 'seaice', 'taxis', 'tips', 'titanic']\n"
          ]
        },
        {
          "output_type": "execute_result",
          "data": {
            "text/plain": [
              "    species     island  bill_length_mm  bill_depth_mm  flipper_length_mm  \\\n",
              "0    Adelie  Torgersen            39.1           18.7              181.0   \n",
              "1    Adelie  Torgersen            39.5           17.4              186.0   \n",
              "2    Adelie  Torgersen            40.3           18.0              195.0   \n",
              "3    Adelie  Torgersen             NaN            NaN                NaN   \n",
              "4    Adelie  Torgersen            36.7           19.3              193.0   \n",
              "..      ...        ...             ...            ...                ...   \n",
              "339  Gentoo     Biscoe             NaN            NaN                NaN   \n",
              "340  Gentoo     Biscoe            46.8           14.3              215.0   \n",
              "341  Gentoo     Biscoe            50.4           15.7              222.0   \n",
              "342  Gentoo     Biscoe            45.2           14.8              212.0   \n",
              "343  Gentoo     Biscoe            49.9           16.1              213.0   \n",
              "\n",
              "     body_mass_g     sex  \n",
              "0         3750.0    Male  \n",
              "1         3800.0  Female  \n",
              "2         3250.0  Female  \n",
              "3            NaN     NaN  \n",
              "4         3450.0  Female  \n",
              "..           ...     ...  \n",
              "339          NaN     NaN  \n",
              "340       4850.0  Female  \n",
              "341       5750.0    Male  \n",
              "342       5200.0  Female  \n",
              "343       5400.0    Male  \n",
              "\n",
              "[344 rows x 7 columns]"
            ],
            "text/html": [
              "\n",
              "  <div id=\"df-0c7e2e83-1df0-40c2-a606-c477a1275919\" class=\"colab-df-container\">\n",
              "    <div>\n",
              "<style scoped>\n",
              "    .dataframe tbody tr th:only-of-type {\n",
              "        vertical-align: middle;\n",
              "    }\n",
              "\n",
              "    .dataframe tbody tr th {\n",
              "        vertical-align: top;\n",
              "    }\n",
              "\n",
              "    .dataframe thead th {\n",
              "        text-align: right;\n",
              "    }\n",
              "</style>\n",
              "<table border=\"1\" class=\"dataframe\">\n",
              "  <thead>\n",
              "    <tr style=\"text-align: right;\">\n",
              "      <th></th>\n",
              "      <th>species</th>\n",
              "      <th>island</th>\n",
              "      <th>bill_length_mm</th>\n",
              "      <th>bill_depth_mm</th>\n",
              "      <th>flipper_length_mm</th>\n",
              "      <th>body_mass_g</th>\n",
              "      <th>sex</th>\n",
              "    </tr>\n",
              "  </thead>\n",
              "  <tbody>\n",
              "    <tr>\n",
              "      <th>0</th>\n",
              "      <td>Adelie</td>\n",
              "      <td>Torgersen</td>\n",
              "      <td>39.1</td>\n",
              "      <td>18.7</td>\n",
              "      <td>181.0</td>\n",
              "      <td>3750.0</td>\n",
              "      <td>Male</td>\n",
              "    </tr>\n",
              "    <tr>\n",
              "      <th>1</th>\n",
              "      <td>Adelie</td>\n",
              "      <td>Torgersen</td>\n",
              "      <td>39.5</td>\n",
              "      <td>17.4</td>\n",
              "      <td>186.0</td>\n",
              "      <td>3800.0</td>\n",
              "      <td>Female</td>\n",
              "    </tr>\n",
              "    <tr>\n",
              "      <th>2</th>\n",
              "      <td>Adelie</td>\n",
              "      <td>Torgersen</td>\n",
              "      <td>40.3</td>\n",
              "      <td>18.0</td>\n",
              "      <td>195.0</td>\n",
              "      <td>3250.0</td>\n",
              "      <td>Female</td>\n",
              "    </tr>\n",
              "    <tr>\n",
              "      <th>3</th>\n",
              "      <td>Adelie</td>\n",
              "      <td>Torgersen</td>\n",
              "      <td>NaN</td>\n",
              "      <td>NaN</td>\n",
              "      <td>NaN</td>\n",
              "      <td>NaN</td>\n",
              "      <td>NaN</td>\n",
              "    </tr>\n",
              "    <tr>\n",
              "      <th>4</th>\n",
              "      <td>Adelie</td>\n",
              "      <td>Torgersen</td>\n",
              "      <td>36.7</td>\n",
              "      <td>19.3</td>\n",
              "      <td>193.0</td>\n",
              "      <td>3450.0</td>\n",
              "      <td>Female</td>\n",
              "    </tr>\n",
              "    <tr>\n",
              "      <th>...</th>\n",
              "      <td>...</td>\n",
              "      <td>...</td>\n",
              "      <td>...</td>\n",
              "      <td>...</td>\n",
              "      <td>...</td>\n",
              "      <td>...</td>\n",
              "      <td>...</td>\n",
              "    </tr>\n",
              "    <tr>\n",
              "      <th>339</th>\n",
              "      <td>Gentoo</td>\n",
              "      <td>Biscoe</td>\n",
              "      <td>NaN</td>\n",
              "      <td>NaN</td>\n",
              "      <td>NaN</td>\n",
              "      <td>NaN</td>\n",
              "      <td>NaN</td>\n",
              "    </tr>\n",
              "    <tr>\n",
              "      <th>340</th>\n",
              "      <td>Gentoo</td>\n",
              "      <td>Biscoe</td>\n",
              "      <td>46.8</td>\n",
              "      <td>14.3</td>\n",
              "      <td>215.0</td>\n",
              "      <td>4850.0</td>\n",
              "      <td>Female</td>\n",
              "    </tr>\n",
              "    <tr>\n",
              "      <th>341</th>\n",
              "      <td>Gentoo</td>\n",
              "      <td>Biscoe</td>\n",
              "      <td>50.4</td>\n",
              "      <td>15.7</td>\n",
              "      <td>222.0</td>\n",
              "      <td>5750.0</td>\n",
              "      <td>Male</td>\n",
              "    </tr>\n",
              "    <tr>\n",
              "      <th>342</th>\n",
              "      <td>Gentoo</td>\n",
              "      <td>Biscoe</td>\n",
              "      <td>45.2</td>\n",
              "      <td>14.8</td>\n",
              "      <td>212.0</td>\n",
              "      <td>5200.0</td>\n",
              "      <td>Female</td>\n",
              "    </tr>\n",
              "    <tr>\n",
              "      <th>343</th>\n",
              "      <td>Gentoo</td>\n",
              "      <td>Biscoe</td>\n",
              "      <td>49.9</td>\n",
              "      <td>16.1</td>\n",
              "      <td>213.0</td>\n",
              "      <td>5400.0</td>\n",
              "      <td>Male</td>\n",
              "    </tr>\n",
              "  </tbody>\n",
              "</table>\n",
              "<p>344 rows × 7 columns</p>\n",
              "</div>\n",
              "    <div class=\"colab-df-buttons\">\n",
              "\n",
              "  <div class=\"colab-df-container\">\n",
              "    <button class=\"colab-df-convert\" onclick=\"convertToInteractive('df-0c7e2e83-1df0-40c2-a606-c477a1275919')\"\n",
              "            title=\"Convert this dataframe to an interactive table.\"\n",
              "            style=\"display:none;\">\n",
              "\n",
              "  <svg xmlns=\"http://www.w3.org/2000/svg\" height=\"24px\" viewBox=\"0 -960 960 960\">\n",
              "    <path d=\"M120-120v-720h720v720H120Zm60-500h600v-160H180v160Zm220 220h160v-160H400v160Zm0 220h160v-160H400v160ZM180-400h160v-160H180v160Zm440 0h160v-160H620v160ZM180-180h160v-160H180v160Zm440 0h160v-160H620v160Z\"/>\n",
              "  </svg>\n",
              "    </button>\n",
              "\n",
              "  <style>\n",
              "    .colab-df-container {\n",
              "      display:flex;\n",
              "      gap: 12px;\n",
              "    }\n",
              "\n",
              "    .colab-df-convert {\n",
              "      background-color: #E8F0FE;\n",
              "      border: none;\n",
              "      border-radius: 50%;\n",
              "      cursor: pointer;\n",
              "      display: none;\n",
              "      fill: #1967D2;\n",
              "      height: 32px;\n",
              "      padding: 0 0 0 0;\n",
              "      width: 32px;\n",
              "    }\n",
              "\n",
              "    .colab-df-convert:hover {\n",
              "      background-color: #E2EBFA;\n",
              "      box-shadow: 0px 1px 2px rgba(60, 64, 67, 0.3), 0px 1px 3px 1px rgba(60, 64, 67, 0.15);\n",
              "      fill: #174EA6;\n",
              "    }\n",
              "\n",
              "    .colab-df-buttons div {\n",
              "      margin-bottom: 4px;\n",
              "    }\n",
              "\n",
              "    [theme=dark] .colab-df-convert {\n",
              "      background-color: #3B4455;\n",
              "      fill: #D2E3FC;\n",
              "    }\n",
              "\n",
              "    [theme=dark] .colab-df-convert:hover {\n",
              "      background-color: #434B5C;\n",
              "      box-shadow: 0px 1px 3px 1px rgba(0, 0, 0, 0.15);\n",
              "      filter: drop-shadow(0px 1px 2px rgba(0, 0, 0, 0.3));\n",
              "      fill: #FFFFFF;\n",
              "    }\n",
              "  </style>\n",
              "\n",
              "    <script>\n",
              "      const buttonEl =\n",
              "        document.querySelector('#df-0c7e2e83-1df0-40c2-a606-c477a1275919 button.colab-df-convert');\n",
              "      buttonEl.style.display =\n",
              "        google.colab.kernel.accessAllowed ? 'block' : 'none';\n",
              "\n",
              "      async function convertToInteractive(key) {\n",
              "        const element = document.querySelector('#df-0c7e2e83-1df0-40c2-a606-c477a1275919');\n",
              "        const dataTable =\n",
              "          await google.colab.kernel.invokeFunction('convertToInteractive',\n",
              "                                                    [key], {});\n",
              "        if (!dataTable) return;\n",
              "\n",
              "        const docLinkHtml = 'Like what you see? Visit the ' +\n",
              "          '<a target=\"_blank\" href=https://colab.research.google.com/notebooks/data_table.ipynb>data table notebook</a>'\n",
              "          + ' to learn more about interactive tables.';\n",
              "        element.innerHTML = '';\n",
              "        dataTable['output_type'] = 'display_data';\n",
              "        await google.colab.output.renderOutput(dataTable, element);\n",
              "        const docLink = document.createElement('div');\n",
              "        docLink.innerHTML = docLinkHtml;\n",
              "        element.appendChild(docLink);\n",
              "      }\n",
              "    </script>\n",
              "  </div>\n",
              "\n",
              "\n",
              "<div id=\"df-a42103d6-2592-4283-8eeb-f3476c0fc79d\">\n",
              "  <button class=\"colab-df-quickchart\" onclick=\"quickchart('df-a42103d6-2592-4283-8eeb-f3476c0fc79d')\"\n",
              "            title=\"Suggest charts\"\n",
              "            style=\"display:none;\">\n",
              "\n",
              "<svg xmlns=\"http://www.w3.org/2000/svg\" height=\"24px\"viewBox=\"0 0 24 24\"\n",
              "     width=\"24px\">\n",
              "    <g>\n",
              "        <path d=\"M19 3H5c-1.1 0-2 .9-2 2v14c0 1.1.9 2 2 2h14c1.1 0 2-.9 2-2V5c0-1.1-.9-2-2-2zM9 17H7v-7h2v7zm4 0h-2V7h2v10zm4 0h-2v-4h2v4z\"/>\n",
              "    </g>\n",
              "</svg>\n",
              "  </button>\n",
              "\n",
              "<style>\n",
              "  .colab-df-quickchart {\n",
              "      --bg-color: #E8F0FE;\n",
              "      --fill-color: #1967D2;\n",
              "      --hover-bg-color: #E2EBFA;\n",
              "      --hover-fill-color: #174EA6;\n",
              "      --disabled-fill-color: #AAA;\n",
              "      --disabled-bg-color: #DDD;\n",
              "  }\n",
              "\n",
              "  [theme=dark] .colab-df-quickchart {\n",
              "      --bg-color: #3B4455;\n",
              "      --fill-color: #D2E3FC;\n",
              "      --hover-bg-color: #434B5C;\n",
              "      --hover-fill-color: #FFFFFF;\n",
              "      --disabled-bg-color: #3B4455;\n",
              "      --disabled-fill-color: #666;\n",
              "  }\n",
              "\n",
              "  .colab-df-quickchart {\n",
              "    background-color: var(--bg-color);\n",
              "    border: none;\n",
              "    border-radius: 50%;\n",
              "    cursor: pointer;\n",
              "    display: none;\n",
              "    fill: var(--fill-color);\n",
              "    height: 32px;\n",
              "    padding: 0;\n",
              "    width: 32px;\n",
              "  }\n",
              "\n",
              "  .colab-df-quickchart:hover {\n",
              "    background-color: var(--hover-bg-color);\n",
              "    box-shadow: 0 1px 2px rgba(60, 64, 67, 0.3), 0 1px 3px 1px rgba(60, 64, 67, 0.15);\n",
              "    fill: var(--button-hover-fill-color);\n",
              "  }\n",
              "\n",
              "  .colab-df-quickchart-complete:disabled,\n",
              "  .colab-df-quickchart-complete:disabled:hover {\n",
              "    background-color: var(--disabled-bg-color);\n",
              "    fill: var(--disabled-fill-color);\n",
              "    box-shadow: none;\n",
              "  }\n",
              "\n",
              "  .colab-df-spinner {\n",
              "    border: 2px solid var(--fill-color);\n",
              "    border-color: transparent;\n",
              "    border-bottom-color: var(--fill-color);\n",
              "    animation:\n",
              "      spin 1s steps(1) infinite;\n",
              "  }\n",
              "\n",
              "  @keyframes spin {\n",
              "    0% {\n",
              "      border-color: transparent;\n",
              "      border-bottom-color: var(--fill-color);\n",
              "      border-left-color: var(--fill-color);\n",
              "    }\n",
              "    20% {\n",
              "      border-color: transparent;\n",
              "      border-left-color: var(--fill-color);\n",
              "      border-top-color: var(--fill-color);\n",
              "    }\n",
              "    30% {\n",
              "      border-color: transparent;\n",
              "      border-left-color: var(--fill-color);\n",
              "      border-top-color: var(--fill-color);\n",
              "      border-right-color: var(--fill-color);\n",
              "    }\n",
              "    40% {\n",
              "      border-color: transparent;\n",
              "      border-right-color: var(--fill-color);\n",
              "      border-top-color: var(--fill-color);\n",
              "    }\n",
              "    60% {\n",
              "      border-color: transparent;\n",
              "      border-right-color: var(--fill-color);\n",
              "    }\n",
              "    80% {\n",
              "      border-color: transparent;\n",
              "      border-right-color: var(--fill-color);\n",
              "      border-bottom-color: var(--fill-color);\n",
              "    }\n",
              "    90% {\n",
              "      border-color: transparent;\n",
              "      border-bottom-color: var(--fill-color);\n",
              "    }\n",
              "  }\n",
              "</style>\n",
              "\n",
              "  <script>\n",
              "    async function quickchart(key) {\n",
              "      const quickchartButtonEl =\n",
              "        document.querySelector('#' + key + ' button');\n",
              "      quickchartButtonEl.disabled = true;  // To prevent multiple clicks.\n",
              "      quickchartButtonEl.classList.add('colab-df-spinner');\n",
              "      try {\n",
              "        const charts = await google.colab.kernel.invokeFunction(\n",
              "            'suggestCharts', [key], {});\n",
              "      } catch (error) {\n",
              "        console.error('Error during call to suggestCharts:', error);\n",
              "      }\n",
              "      quickchartButtonEl.classList.remove('colab-df-spinner');\n",
              "      quickchartButtonEl.classList.add('colab-df-quickchart-complete');\n",
              "    }\n",
              "    (() => {\n",
              "      let quickchartButtonEl =\n",
              "        document.querySelector('#df-a42103d6-2592-4283-8eeb-f3476c0fc79d button');\n",
              "      quickchartButtonEl.style.display =\n",
              "        google.colab.kernel.accessAllowed ? 'block' : 'none';\n",
              "    })();\n",
              "  </script>\n",
              "</div>\n",
              "    </div>\n",
              "  </div>\n"
            ],
            "application/vnd.google.colaboratory.intrinsic+json": {
              "type": "dataframe",
              "variable_name": "penguins",
              "summary": "{\n  \"name\": \"penguins\",\n  \"rows\": 344,\n  \"fields\": [\n    {\n      \"column\": \"species\",\n      \"properties\": {\n        \"dtype\": \"category\",\n        \"num_unique_values\": 3,\n        \"samples\": [\n          \"Adelie\",\n          \"Chinstrap\",\n          \"Gentoo\"\n        ],\n        \"semantic_type\": \"\",\n        \"description\": \"\"\n      }\n    },\n    {\n      \"column\": \"island\",\n      \"properties\": {\n        \"dtype\": \"category\",\n        \"num_unique_values\": 3,\n        \"samples\": [\n          \"Torgersen\",\n          \"Biscoe\",\n          \"Dream\"\n        ],\n        \"semantic_type\": \"\",\n        \"description\": \"\"\n      }\n    },\n    {\n      \"column\": \"bill_length_mm\",\n      \"properties\": {\n        \"dtype\": \"number\",\n        \"std\": 5.4595837139265315,\n        \"min\": 32.1,\n        \"max\": 59.6,\n        \"num_unique_values\": 164,\n        \"samples\": [\n          48.2,\n          49.8,\n          45.1\n        ],\n        \"semantic_type\": \"\",\n        \"description\": \"\"\n      }\n    },\n    {\n      \"column\": \"bill_depth_mm\",\n      \"properties\": {\n        \"dtype\": \"number\",\n        \"std\": 1.9747931568167816,\n        \"min\": 13.1,\n        \"max\": 21.5,\n        \"num_unique_values\": 80,\n        \"samples\": [\n          16.9,\n          18.7,\n          18.6\n        ],\n        \"semantic_type\": \"\",\n        \"description\": \"\"\n      }\n    },\n    {\n      \"column\": \"flipper_length_mm\",\n      \"properties\": {\n        \"dtype\": \"number\",\n        \"std\": 14.061713679356888,\n        \"min\": 172.0,\n        \"max\": 231.0,\n        \"num_unique_values\": 55,\n        \"samples\": [\n          201.0,\n          180.0,\n          212.0\n        ],\n        \"semantic_type\": \"\",\n        \"description\": \"\"\n      }\n    },\n    {\n      \"column\": \"body_mass_g\",\n      \"properties\": {\n        \"dtype\": \"number\",\n        \"std\": 801.9545356980956,\n        \"min\": 2700.0,\n        \"max\": 6300.0,\n        \"num_unique_values\": 94,\n        \"samples\": [\n          4350.0,\n          4150.0,\n          3525.0\n        ],\n        \"semantic_type\": \"\",\n        \"description\": \"\"\n      }\n    },\n    {\n      \"column\": \"sex\",\n      \"properties\": {\n        \"dtype\": \"category\",\n        \"num_unique_values\": 2,\n        \"samples\": [\n          \"Female\",\n          \"Male\"\n        ],\n        \"semantic_type\": \"\",\n        \"description\": \"\"\n      }\n    }\n  ]\n}"
            }
          },
          "metadata": {},
          "execution_count": 3
        }
      ],
      "source": [
        "# hey, it turns out seaborn has a nice routine\n",
        "# that allows us to grab toy datasets to play with\n",
        "print( sns.get_dataset_names() )\n",
        "penguins = sns.load_dataset('penguins')\n",
        "penguins"
      ]
    },
    {
      "cell_type": "code",
      "execution_count": 4,
      "id": "3547f975",
      "metadata": {
        "colab": {
          "base_uri": "https://localhost:8080/"
        },
        "id": "3547f975",
        "outputId": "435034de-d8e7-4a08-f1f9-29e6d0448850"
      },
      "outputs": [
        {
          "output_type": "execute_result",
          "data": {
            "text/plain": [
              "Index(['species', 'island', 'bill_length_mm', 'bill_depth_mm',\n",
              "       'flipper_length_mm', 'body_mass_g', 'sex'],\n",
              "      dtype='object')"
            ]
          },
          "metadata": {},
          "execution_count": 4
        }
      ],
      "source": [
        "# you can already see the columns because this data is pretty small,\n",
        "# but that won't always be the case... so here's how you can see them in general\n",
        "penguins.columns"
      ]
    },
    {
      "cell_type": "code",
      "execution_count": 5,
      "id": "580820c6",
      "metadata": {
        "colab": {
          "base_uri": "https://localhost:8080/"
        },
        "id": "580820c6",
        "outputId": "42e45b7f-07cb-4af4-e073-83851a8822e8"
      },
      "outputs": [
        {
          "output_type": "execute_result",
          "data": {
            "text/plain": [
              "(344, 7)"
            ]
          },
          "metadata": {},
          "execution_count": 5
        }
      ],
      "source": [
        "\n",
        "penguins.shape"
      ]
    },
    {
      "cell_type": "code",
      "execution_count": 6,
      "id": "b1f8f255",
      "metadata": {
        "colab": {
          "base_uri": "https://localhost:8080/"
        },
        "id": "b1f8f255",
        "outputId": "4f8e617a-b8ea-474f-9f66-e75345590e58"
      },
      "outputs": [
        {
          "output_type": "execute_result",
          "data": {
            "text/plain": [
              "species               object\n",
              "island                object\n",
              "bill_length_mm       float64\n",
              "bill_depth_mm        float64\n",
              "flipper_length_mm    float64\n",
              "body_mass_g          float64\n",
              "sex                   object\n",
              "dtype: object"
            ]
          },
          "metadata": {},
          "execution_count": 6
        }
      ],
      "source": [
        "penguins.dtypes"
      ]
    },
    {
      "cell_type": "code",
      "execution_count": 7,
      "id": "b4078a42",
      "metadata": {
        "colab": {
          "base_uri": "https://localhost:8080/"
        },
        "id": "b4078a42",
        "outputId": "c7ccfad0-e1f0-4232-fd58-e4e86aab3269"
      },
      "outputs": [
        {
          "output_type": "execute_result",
          "data": {
            "text/plain": [
              "species\n",
              "Adelie       152\n",
              "Gentoo       124\n",
              "Chinstrap     68\n",
              "Name: count, dtype: int64"
            ]
          },
          "metadata": {},
          "execution_count": 7
        }
      ],
      "source": [
        "# Not that many Chinstraps!\n",
        "penguins['species'].value_counts()"
      ]
    },
    {
      "cell_type": "code",
      "execution_count": 8,
      "id": "2c9ccad8",
      "metadata": {
        "colab": {
          "base_uri": "https://localhost:8080/"
        },
        "id": "2c9ccad8",
        "outputId": "df25fb2c-cd1a-4965-8ea1-f711ac32d096"
      },
      "outputs": [
        {
          "output_type": "execute_result",
          "data": {
            "text/plain": [
              "island\n",
              "Biscoe       168\n",
              "Dream        124\n",
              "Torgersen     52\n",
              "Name: count, dtype: int64"
            ]
          },
          "metadata": {},
          "execution_count": 8
        }
      ],
      "source": [
        "penguins['island'].value_counts()"
      ]
    },
    {
      "cell_type": "code",
      "execution_count": 9,
      "id": "2af29944",
      "metadata": {
        "colab": {
          "base_uri": "https://localhost:8080/"
        },
        "id": "2af29944",
        "outputId": "89e5bcc9-90a6-4a5f-ebcf-10667d1f53d7"
      },
      "outputs": [
        {
          "output_type": "execute_result",
          "data": {
            "text/plain": [
              "species    island   \n",
              "Gentoo     Biscoe       124\n",
              "Chinstrap  Dream         68\n",
              "Adelie     Dream         56\n",
              "           Torgersen     52\n",
              "           Biscoe        44\n",
              "Name: count, dtype: int64"
            ]
          },
          "metadata": {},
          "execution_count": 9
        }
      ],
      "source": [
        "# are there any relationships between\n",
        "# two categorical variables?\n",
        "# sometimes it turns out that one variable\n",
        "# can actually stand in for another variable\n",
        "# think statistical confounds, which can cause a lot of problems\n",
        "penguins[['species','island']].value_counts()"
      ]
    },
    {
      "cell_type": "code",
      "execution_count": 10,
      "id": "30ea8820",
      "metadata": {
        "colab": {
          "base_uri": "https://localhost:8080/"
        },
        "id": "30ea8820",
        "outputId": "a1be2565-a26c-4bc5-c266-d97e7dd47bb2"
      },
      "outputs": [
        {
          "output_type": "execute_result",
          "data": {
            "text/plain": [
              "sex\n",
              "Male      168\n",
              "Female    165\n",
              "Name: count, dtype: int64"
            ]
          },
          "metadata": {},
          "execution_count": 10
        }
      ],
      "source": [
        "penguins['sex'].value_counts()"
      ]
    },
    {
      "cell_type": "code",
      "execution_count": 11,
      "id": "48921510",
      "metadata": {
        "colab": {
          "base_uri": "https://localhost:8080/"
        },
        "id": "48921510",
        "outputId": "baee30e3-315c-458f-9f8a-bf97d885a47c"
      },
      "outputs": [
        {
          "output_type": "execute_result",
          "data": {
            "text/plain": [
              "species    sex   \n",
              "Adelie     Female    73\n",
              "           Male      73\n",
              "Gentoo     Male      61\n",
              "           Female    58\n",
              "Chinstrap  Female    34\n",
              "           Male      34\n",
              "Name: count, dtype: int64"
            ]
          },
          "metadata": {},
          "execution_count": 11
        }
      ],
      "source": [
        "# turns out that thankfully we have a fairly even number\n",
        "# of males and females for each species\n",
        "(\n",
        "    penguins[['species','sex']]\n",
        "    .value_counts()\n",
        "    #.to_frame()\n",
        "    #.sort_values(by=['species','sex'])\n",
        ")\n",
        "\n"
      ]
    },
    {
      "cell_type": "code",
      "execution_count": 12,
      "id": "899752ba",
      "metadata": {
        "colab": {
          "base_uri": "https://localhost:8080/",
          "height": 394
        },
        "id": "899752ba",
        "outputId": "1aff775e-91ef-4b46-a1c6-b8e0395eaeb2"
      },
      "outputs": [
        {
          "output_type": "execute_result",
          "data": {
            "text/plain": [
              "                            count\n",
              "species   island    sex          \n",
              "Adelie    Biscoe    Female     22\n",
              "                    Male       22\n",
              "          Dream     Female     27\n",
              "                    Male       28\n",
              "          Torgersen Female     24\n",
              "                    Male       23\n",
              "Chinstrap Dream     Female     34\n",
              "                    Male       34\n",
              "Gentoo    Biscoe    Female     58\n",
              "                    Male       61"
            ],
            "text/html": [
              "\n",
              "  <div id=\"df-34d9b87a-0a1c-4fb4-b78f-436e17b3be50\" class=\"colab-df-container\">\n",
              "    <div>\n",
              "<style scoped>\n",
              "    .dataframe tbody tr th:only-of-type {\n",
              "        vertical-align: middle;\n",
              "    }\n",
              "\n",
              "    .dataframe tbody tr th {\n",
              "        vertical-align: top;\n",
              "    }\n",
              "\n",
              "    .dataframe thead th {\n",
              "        text-align: right;\n",
              "    }\n",
              "</style>\n",
              "<table border=\"1\" class=\"dataframe\">\n",
              "  <thead>\n",
              "    <tr style=\"text-align: right;\">\n",
              "      <th></th>\n",
              "      <th></th>\n",
              "      <th></th>\n",
              "      <th>count</th>\n",
              "    </tr>\n",
              "    <tr>\n",
              "      <th>species</th>\n",
              "      <th>island</th>\n",
              "      <th>sex</th>\n",
              "      <th></th>\n",
              "    </tr>\n",
              "  </thead>\n",
              "  <tbody>\n",
              "    <tr>\n",
              "      <th rowspan=\"6\" valign=\"top\">Adelie</th>\n",
              "      <th rowspan=\"2\" valign=\"top\">Biscoe</th>\n",
              "      <th>Female</th>\n",
              "      <td>22</td>\n",
              "    </tr>\n",
              "    <tr>\n",
              "      <th>Male</th>\n",
              "      <td>22</td>\n",
              "    </tr>\n",
              "    <tr>\n",
              "      <th rowspan=\"2\" valign=\"top\">Dream</th>\n",
              "      <th>Female</th>\n",
              "      <td>27</td>\n",
              "    </tr>\n",
              "    <tr>\n",
              "      <th>Male</th>\n",
              "      <td>28</td>\n",
              "    </tr>\n",
              "    <tr>\n",
              "      <th rowspan=\"2\" valign=\"top\">Torgersen</th>\n",
              "      <th>Female</th>\n",
              "      <td>24</td>\n",
              "    </tr>\n",
              "    <tr>\n",
              "      <th>Male</th>\n",
              "      <td>23</td>\n",
              "    </tr>\n",
              "    <tr>\n",
              "      <th rowspan=\"2\" valign=\"top\">Chinstrap</th>\n",
              "      <th rowspan=\"2\" valign=\"top\">Dream</th>\n",
              "      <th>Female</th>\n",
              "      <td>34</td>\n",
              "    </tr>\n",
              "    <tr>\n",
              "      <th>Male</th>\n",
              "      <td>34</td>\n",
              "    </tr>\n",
              "    <tr>\n",
              "      <th rowspan=\"2\" valign=\"top\">Gentoo</th>\n",
              "      <th rowspan=\"2\" valign=\"top\">Biscoe</th>\n",
              "      <th>Female</th>\n",
              "      <td>58</td>\n",
              "    </tr>\n",
              "    <tr>\n",
              "      <th>Male</th>\n",
              "      <td>61</td>\n",
              "    </tr>\n",
              "  </tbody>\n",
              "</table>\n",
              "</div>\n",
              "    <div class=\"colab-df-buttons\">\n",
              "\n",
              "  <div class=\"colab-df-container\">\n",
              "    <button class=\"colab-df-convert\" onclick=\"convertToInteractive('df-34d9b87a-0a1c-4fb4-b78f-436e17b3be50')\"\n",
              "            title=\"Convert this dataframe to an interactive table.\"\n",
              "            style=\"display:none;\">\n",
              "\n",
              "  <svg xmlns=\"http://www.w3.org/2000/svg\" height=\"24px\" viewBox=\"0 -960 960 960\">\n",
              "    <path d=\"M120-120v-720h720v720H120Zm60-500h600v-160H180v160Zm220 220h160v-160H400v160Zm0 220h160v-160H400v160ZM180-400h160v-160H180v160Zm440 0h160v-160H620v160ZM180-180h160v-160H180v160Zm440 0h160v-160H620v160Z\"/>\n",
              "  </svg>\n",
              "    </button>\n",
              "\n",
              "  <style>\n",
              "    .colab-df-container {\n",
              "      display:flex;\n",
              "      gap: 12px;\n",
              "    }\n",
              "\n",
              "    .colab-df-convert {\n",
              "      background-color: #E8F0FE;\n",
              "      border: none;\n",
              "      border-radius: 50%;\n",
              "      cursor: pointer;\n",
              "      display: none;\n",
              "      fill: #1967D2;\n",
              "      height: 32px;\n",
              "      padding: 0 0 0 0;\n",
              "      width: 32px;\n",
              "    }\n",
              "\n",
              "    .colab-df-convert:hover {\n",
              "      background-color: #E2EBFA;\n",
              "      box-shadow: 0px 1px 2px rgba(60, 64, 67, 0.3), 0px 1px 3px 1px rgba(60, 64, 67, 0.15);\n",
              "      fill: #174EA6;\n",
              "    }\n",
              "\n",
              "    .colab-df-buttons div {\n",
              "      margin-bottom: 4px;\n",
              "    }\n",
              "\n",
              "    [theme=dark] .colab-df-convert {\n",
              "      background-color: #3B4455;\n",
              "      fill: #D2E3FC;\n",
              "    }\n",
              "\n",
              "    [theme=dark] .colab-df-convert:hover {\n",
              "      background-color: #434B5C;\n",
              "      box-shadow: 0px 1px 3px 1px rgba(0, 0, 0, 0.15);\n",
              "      filter: drop-shadow(0px 1px 2px rgba(0, 0, 0, 0.3));\n",
              "      fill: #FFFFFF;\n",
              "    }\n",
              "  </style>\n",
              "\n",
              "    <script>\n",
              "      const buttonEl =\n",
              "        document.querySelector('#df-34d9b87a-0a1c-4fb4-b78f-436e17b3be50 button.colab-df-convert');\n",
              "      buttonEl.style.display =\n",
              "        google.colab.kernel.accessAllowed ? 'block' : 'none';\n",
              "\n",
              "      async function convertToInteractive(key) {\n",
              "        const element = document.querySelector('#df-34d9b87a-0a1c-4fb4-b78f-436e17b3be50');\n",
              "        const dataTable =\n",
              "          await google.colab.kernel.invokeFunction('convertToInteractive',\n",
              "                                                    [key], {});\n",
              "        if (!dataTable) return;\n",
              "\n",
              "        const docLinkHtml = 'Like what you see? Visit the ' +\n",
              "          '<a target=\"_blank\" href=https://colab.research.google.com/notebooks/data_table.ipynb>data table notebook</a>'\n",
              "          + ' to learn more about interactive tables.';\n",
              "        element.innerHTML = '';\n",
              "        dataTable['output_type'] = 'display_data';\n",
              "        await google.colab.output.renderOutput(dataTable, element);\n",
              "        const docLink = document.createElement('div');\n",
              "        docLink.innerHTML = docLinkHtml;\n",
              "        element.appendChild(docLink);\n",
              "      }\n",
              "    </script>\n",
              "  </div>\n",
              "\n",
              "\n",
              "<div id=\"df-e9f06d3b-d87b-4783-8376-ff2841c7c4b6\">\n",
              "  <button class=\"colab-df-quickchart\" onclick=\"quickchart('df-e9f06d3b-d87b-4783-8376-ff2841c7c4b6')\"\n",
              "            title=\"Suggest charts\"\n",
              "            style=\"display:none;\">\n",
              "\n",
              "<svg xmlns=\"http://www.w3.org/2000/svg\" height=\"24px\"viewBox=\"0 0 24 24\"\n",
              "     width=\"24px\">\n",
              "    <g>\n",
              "        <path d=\"M19 3H5c-1.1 0-2 .9-2 2v14c0 1.1.9 2 2 2h14c1.1 0 2-.9 2-2V5c0-1.1-.9-2-2-2zM9 17H7v-7h2v7zm4 0h-2V7h2v10zm4 0h-2v-4h2v4z\"/>\n",
              "    </g>\n",
              "</svg>\n",
              "  </button>\n",
              "\n",
              "<style>\n",
              "  .colab-df-quickchart {\n",
              "      --bg-color: #E8F0FE;\n",
              "      --fill-color: #1967D2;\n",
              "      --hover-bg-color: #E2EBFA;\n",
              "      --hover-fill-color: #174EA6;\n",
              "      --disabled-fill-color: #AAA;\n",
              "      --disabled-bg-color: #DDD;\n",
              "  }\n",
              "\n",
              "  [theme=dark] .colab-df-quickchart {\n",
              "      --bg-color: #3B4455;\n",
              "      --fill-color: #D2E3FC;\n",
              "      --hover-bg-color: #434B5C;\n",
              "      --hover-fill-color: #FFFFFF;\n",
              "      --disabled-bg-color: #3B4455;\n",
              "      --disabled-fill-color: #666;\n",
              "  }\n",
              "\n",
              "  .colab-df-quickchart {\n",
              "    background-color: var(--bg-color);\n",
              "    border: none;\n",
              "    border-radius: 50%;\n",
              "    cursor: pointer;\n",
              "    display: none;\n",
              "    fill: var(--fill-color);\n",
              "    height: 32px;\n",
              "    padding: 0;\n",
              "    width: 32px;\n",
              "  }\n",
              "\n",
              "  .colab-df-quickchart:hover {\n",
              "    background-color: var(--hover-bg-color);\n",
              "    box-shadow: 0 1px 2px rgba(60, 64, 67, 0.3), 0 1px 3px 1px rgba(60, 64, 67, 0.15);\n",
              "    fill: var(--button-hover-fill-color);\n",
              "  }\n",
              "\n",
              "  .colab-df-quickchart-complete:disabled,\n",
              "  .colab-df-quickchart-complete:disabled:hover {\n",
              "    background-color: var(--disabled-bg-color);\n",
              "    fill: var(--disabled-fill-color);\n",
              "    box-shadow: none;\n",
              "  }\n",
              "\n",
              "  .colab-df-spinner {\n",
              "    border: 2px solid var(--fill-color);\n",
              "    border-color: transparent;\n",
              "    border-bottom-color: var(--fill-color);\n",
              "    animation:\n",
              "      spin 1s steps(1) infinite;\n",
              "  }\n",
              "\n",
              "  @keyframes spin {\n",
              "    0% {\n",
              "      border-color: transparent;\n",
              "      border-bottom-color: var(--fill-color);\n",
              "      border-left-color: var(--fill-color);\n",
              "    }\n",
              "    20% {\n",
              "      border-color: transparent;\n",
              "      border-left-color: var(--fill-color);\n",
              "      border-top-color: var(--fill-color);\n",
              "    }\n",
              "    30% {\n",
              "      border-color: transparent;\n",
              "      border-left-color: var(--fill-color);\n",
              "      border-top-color: var(--fill-color);\n",
              "      border-right-color: var(--fill-color);\n",
              "    }\n",
              "    40% {\n",
              "      border-color: transparent;\n",
              "      border-right-color: var(--fill-color);\n",
              "      border-top-color: var(--fill-color);\n",
              "    }\n",
              "    60% {\n",
              "      border-color: transparent;\n",
              "      border-right-color: var(--fill-color);\n",
              "    }\n",
              "    80% {\n",
              "      border-color: transparent;\n",
              "      border-right-color: var(--fill-color);\n",
              "      border-bottom-color: var(--fill-color);\n",
              "    }\n",
              "    90% {\n",
              "      border-color: transparent;\n",
              "      border-bottom-color: var(--fill-color);\n",
              "    }\n",
              "  }\n",
              "</style>\n",
              "\n",
              "  <script>\n",
              "    async function quickchart(key) {\n",
              "      const quickchartButtonEl =\n",
              "        document.querySelector('#' + key + ' button');\n",
              "      quickchartButtonEl.disabled = true;  // To prevent multiple clicks.\n",
              "      quickchartButtonEl.classList.add('colab-df-spinner');\n",
              "      try {\n",
              "        const charts = await google.colab.kernel.invokeFunction(\n",
              "            'suggestCharts', [key], {});\n",
              "      } catch (error) {\n",
              "        console.error('Error during call to suggestCharts:', error);\n",
              "      }\n",
              "      quickchartButtonEl.classList.remove('colab-df-spinner');\n",
              "      quickchartButtonEl.classList.add('colab-df-quickchart-complete');\n",
              "    }\n",
              "    (() => {\n",
              "      let quickchartButtonEl =\n",
              "        document.querySelector('#df-e9f06d3b-d87b-4783-8376-ff2841c7c4b6 button');\n",
              "      quickchartButtonEl.style.display =\n",
              "        google.colab.kernel.accessAllowed ? 'block' : 'none';\n",
              "    })();\n",
              "  </script>\n",
              "</div>\n",
              "    </div>\n",
              "  </div>\n"
            ],
            "application/vnd.google.colaboratory.intrinsic+json": {
              "type": "dataframe",
              "summary": "{\n  \"name\": \")\",\n  \"rows\": 10,\n  \"fields\": [\n    {\n      \"column\": \"count\",\n      \"properties\": {\n        \"dtype\": \"number\",\n        \"std\": 14,\n        \"min\": 22,\n        \"max\": 61,\n        \"num_unique_values\": 8,\n        \"samples\": [\n          27,\n          34,\n          22\n        ],\n        \"semantic_type\": \"\",\n        \"description\": \"\"\n      }\n    }\n  ]\n}"
            }
          },
          "metadata": {},
          "execution_count": 12
        }
      ],
      "source": [
        "# the full set of interactions\n",
        "# printed pretty\n",
        "(\n",
        "    penguins[['species','island','sex']]\n",
        "    .value_counts()\n",
        "    .to_frame()\n",
        "    .sort_values(by=['species','island','sex'])\n",
        ")\n",
        "\n"
      ]
    },
    {
      "cell_type": "code",
      "execution_count": 13,
      "id": "d2f29516",
      "metadata": {
        "colab": {
          "base_uri": "https://localhost:8080/",
          "height": 549
        },
        "id": "d2f29516",
        "outputId": "59b46b08-8f2f-4647-9936-172200a84f47"
      },
      "outputs": [
        {
          "output_type": "display_data",
          "data": {
            "text/plain": [
              "<Figure size 2500x1000 with 2 Axes>"
            ],
            "image/png": "[encoded data removed]"
          },
          "metadata": {}
        }
      ],
      "source": [
        "# are there any missing data?\n",
        "# in the matrix display, missing data in a particular row is shown as white\n",
        "# available data is black\n",
        "# look for lines across multiple columns!\n",
        "msno.matrix(penguins);"
      ]
    },
    {
      "cell_type": "code",
      "execution_count": null,
      "id": "9025cd34",
      "metadata": {
        "id": "9025cd34"
      },
      "outputs": [],
      "source": [
        "# turns out if one length measurement is missing they ALL are\n",
        "msno.heatmap(penguins);"
      ]
    },
    {
      "cell_type": "code",
      "execution_count": null,
      "id": "a70088a2",
      "metadata": {
        "id": "a70088a2"
      },
      "outputs": [],
      "source": [
        "# so it looks like there are only 11 penguins with missing data\n",
        "penguins.dropna()"
      ]
    },
    {
      "cell_type": "code",
      "execution_count": null,
      "id": "d8329bff",
      "metadata": {
        "id": "d8329bff"
      },
      "outputs": [],
      "source": [
        "# bonus question for you to think about on your own....\n",
        "missing = pd.isna(penguins).any(axis='columns')\n",
        "print(missing)\n",
        "penguins['missing'] = missing\n",
        "# now how could you figure out if there is a systematic relationship between\n",
        "# species, island, sex and whether a penguins data is missing any measurements\n",
        "# do some work here in this cell to figure it out!\n",
        "# or go ahead and insert as many cells here as you need"
      ]
    },
    {
      "cell_type": "code",
      "execution_count": null,
      "id": "71323967",
      "metadata": {
        "id": "71323967"
      },
      "outputs": [],
      "source": [
        "# we don't want our missing column after finishing the stuff above\n",
        "# and we decide to drop the 11 penguins with any missing data\n",
        "# since that's only 3% of our data\n",
        "penguins = penguins.drop(columns='missing').dropna()"
      ]
    },
    {
      "cell_type": "code",
      "execution_count": null,
      "id": "eb5d246f",
      "metadata": {
        "id": "eb5d246f"
      },
      "outputs": [],
      "source": [
        "penguins.describe()"
      ]
    },
    {
      "cell_type": "code",
      "execution_count": null,
      "id": "8324cd99",
      "metadata": {
        "id": "8324cd99"
      },
      "outputs": [],
      "source": [
        "# ugh those histograms do not look very normal!!\n",
        "sns.pairplot(penguins);"
      ]
    },
    {
      "cell_type": "code",
      "execution_count": null,
      "id": "f386329a",
      "metadata": {
        "id": "f386329a"
      },
      "outputs": [],
      "source": [
        "# sometimes animals are sexually dimorphic yo!\n",
        "sns.pairplot(penguins, hue='sex');"
      ]
    },
    {
      "cell_type": "code",
      "execution_count": null,
      "id": "f9bd7318",
      "metadata": {
        "id": "f9bd7318"
      },
      "outputs": [],
      "source": [
        "# ah that's much better... almost normal...\n",
        "# and combined with above you can kinda see that for each species\n",
        "# the females do appear to be smaller than the males\n",
        "sns.pairplot(penguins, hue='species');"
      ]
    },
    {
      "cell_type": "code",
      "execution_count": null,
      "id": "87739a22",
      "metadata": {
        "id": "87739a22"
      },
      "outputs": [],
      "source": [
        "# but there is clearly a better way to show this than a scatter plot\n",
        "# while a table contains all the info, it is ugly and hard to read!!\n",
        "penguins.groupby(['species','sex']).describe().T"
      ]
    },
    {
      "cell_type": "code",
      "execution_count": null,
      "id": "0c09f7a2",
      "metadata": {
        "id": "0c09f7a2"
      },
      "outputs": [],
      "source": [
        "# so lets do boxplots to compare each measure we may care about\n",
        "sns.boxplot(data=penguins,x='species',y='flipper_length_mm', hue='sex');"
      ]
    },
    {
      "cell_type": "code",
      "execution_count": null,
      "id": "a32bbb19",
      "metadata": {
        "id": "a32bbb19"
      },
      "outputs": [],
      "source": [
        "sns.boxplot(data=penguins,x='species',y='bill_length_mm', hue='sex');"
      ]
    },
    {
      "cell_type": "code",
      "execution_count": null,
      "id": "ffe27098",
      "metadata": {
        "id": "ffe27098"
      },
      "outputs": [],
      "source": [
        "sns.boxplot(data=penguins,x='species',y='body_mass_g', hue='sex');"
      ]
    },
    {
      "cell_type": "code",
      "execution_count": null,
      "id": "c08d7c96",
      "metadata": {
        "id": "c08d7c96"
      },
      "outputs": [],
      "source": [
        "# ok lets see if there's a dimensionality reduction method that\n",
        "# can help us see patterns of quantitative variables in their\n",
        "# relationships with categorical variables.\n",
        "# so to do that we need labels for the categorical variables we are interested in\n",
        "labels = penguins.species + '-' + penguins.sex\n",
        "print( labels.unique() )\n",
        "\n",
        "# do a PCA of the data\n",
        "from sklearn.decomposition import PCA\n",
        "PCA_peng = PCA(n_components=2)\n",
        "PCs_peng = PCA_peng.fit_transform(penguins[['flipper_length_mm','bill_length_mm','bill_depth_mm','body_mass_g']])\n",
        "\n",
        "# turn the numpy array into a dataframe for plotting\n",
        "PCs_peng = pd.DataFrame.from_records(PCs_peng,columns=['PC1','PC2'])\n",
        "PCs_peng['labels']=labels\n",
        "\n",
        "sns.scatterplot(data=PCs_peng, x='PC1', y='PC2', hue='labels')\n",
        "#place legend outside top right corner of plot\n",
        "plt.legend(bbox_to_anchor=(1.02, 1), loc='upper left', borderaxespad=0);"
      ]
    },
    {
      "cell_type": "markdown",
      "id": "26c18b89",
      "metadata": {
        "id": "26c18b89"
      },
      "source": [
        "If this is a descriptive analysis we've basically done our job by the time we finished making the `.describe()` table a few cells ago.\n",
        "\n",
        "But if we are doing EDA not only do we prefer the graphical presentation of things like `sns.pairplot()` and `sns.boxplot()`, but we are also allowed to interpret the things we observe in those plots.\n",
        "\n",
        "So how would you describe what you observe here?  What do you think about the relationships between the categorical variables (species, island, sex) and the continuous number variables (flipper length, bill length and depth, body mass)?  Do you see any patterns?\n",
        "\n",
        "In the next cell you can add in your own interpretations of what you see if you'd like"
      ]
    },
    {
      "cell_type": "markdown",
      "id": "9eccec1a",
      "metadata": {
        "id": "9eccec1a"
      },
      "source": []
    },
    {
      "cell_type": "code",
      "execution_count": null,
      "id": "50e3d107",
      "metadata": {
        "id": "50e3d107"
      },
      "outputs": [],
      "source": [
        "# now go explore a new dataset completely on your own!!\n",
        "taxis = sns.load_dataset('taxis')\n",
        "taxis"
      ]
    },
    {
      "cell_type": "code",
      "execution_count": null,
      "id": "5dcb4810",
      "metadata": {
        "id": "5dcb4810"
      },
      "outputs": [],
      "source": [
        "# jasons starting suggestion\n",
        "# lets take a look at the timeframe covered by this dataset\n",
        "taxis.pickup.describe()"
      ]
    },
    {
      "cell_type": "code",
      "execution_count": null,
      "id": "fca23556",
      "metadata": {
        "id": "fca23556"
      },
      "outputs": [],
      "source": []
    }
  ],
  "metadata": {
    "kernelspec": {
      "display_name": "python3",
      "language": "python",
      "name": "python3"
    },
    "colab": {
      "provenance": []
    }
  },
  "nbformat": 4,
  "nbformat_minor": 5
}